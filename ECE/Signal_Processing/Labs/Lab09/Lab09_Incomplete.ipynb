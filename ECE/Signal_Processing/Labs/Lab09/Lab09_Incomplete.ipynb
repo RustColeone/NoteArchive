{
 "cells": [
  {
   "cell_type": "markdown",
   "metadata": {},
   "source": [
    "# Lab 9: Images: Rotations, Fourier Transforms & the Value of Phase\n",
    "\n",
    "#### Goal of this part\n",
    "\n",
    "In today's lab, you will learn how to:\n",
    "\n",
    "1. rotate images\n",
    "2. compute the 2D FT of an image by calling the FFT algorithm\n",
    "3. compute the inverse FT by calling the iFFT algorithm\n",
    "4. plot the magnitude of the FT of an image\n",
    "\n",
    "You will also see a demonstration of why the phase information of the fourier transform is important. Specifically, you will learn that the phase of the FT carries most of the information about the image!"
   ]
  },
  {
   "cell_type": "markdown",
   "metadata": {},
   "source": [
    "## 1.1 Image transformations in the original domain: Rotations"
   ]
  },
  {
   "cell_type": "markdown",
   "metadata": {},
   "source": [
    "In this section we will think through how to manipulate images in simple ways, such as how to rotate and take the transpose of an image. Consider the following matrix. How can we rotate it clockwise by 90 degrees?"
   ]
  },
  {
   "cell_type": "code",
   "execution_count": null,
   "metadata": {},
   "outputs": [],
   "source": [
    "import numpy as np\n",
    "mat = np.array([[1,2,3], [4,5,6], [7,8,9]])\n",
    "print(mat)"
   ]
  },
  {
   "cell_type": "markdown",
   "metadata": {},
   "source": [
    "<font color='red'>**Exercise 1.1.1**</font> Finish the function below, which rotates a matrix by 90 degrees clockwise."
   ]
  },
  {
   "cell_type": "code",
   "execution_count": null,
   "metadata": {},
   "outputs": [],
   "source": [
    "def rotate_mtx_90_deg(mtx_in):\n",
    "    \n",
    "    n_rows = mtx_in.shape[0]\n",
    "    n_cols = mtx_in.shape[1]\n",
    "    \n",
    "    # make sure the matrix is square\n",
    "    assert n_rows == n_cols, \"Input matrix is not square\"\n",
    "    \n",
    "    mtx_out = np.zeros((mtx_in.shape))\n",
    "    for i in range(n_cols):\n",
    "        for j in range(n_rows):\n",
    "            mtx_out[j,n_rows-i-1] = ...\n",
    "\n",
    "    return mtx_out"
   ]
  },
  {
   "cell_type": "code",
   "execution_count": null,
   "metadata": {},
   "outputs": [],
   "source": [
    "rotate_mtx_90_deg(mat)"
   ]
  },
  {
   "cell_type": "markdown",
   "metadata": {},
   "source": [
    "Let's see this applied to an image."
   ]
  },
  {
   "cell_type": "code",
   "execution_count": null,
   "metadata": {},
   "outputs": [],
   "source": [
    "%matplotlib inline\n",
    "import matplotlib.image as mpimg\n",
    "import matplotlib.pyplot as plt\n",
    "\n",
    "image = mpimg.imread('pic1.jfif') \n",
    "image = image[0:180,30:210,1]\n",
    "\n",
    "# Original image\n",
    "plt.figure()\n",
    "plt.imshow(image,cmap='gray')\n",
    "\n",
    "# Rotated image\n",
    "plt.figure()\n",
    "plt.imshow(rotate_mtx_90_deg(image),cmap='gray')"
   ]
  },
  {
   "cell_type": "markdown",
   "metadata": {},
   "source": [
    "<font color='red'>**Exercise 1.1.2**</font> Below, display the image rotated clockwise by 270 degrees."
   ]
  },
  {
   "cell_type": "code",
   "execution_count": null,
   "metadata": {},
   "outputs": [],
   "source": [
    "..."
   ]
  },
  {
   "cell_type": "markdown",
   "metadata": {},
   "source": [
    "<font color='red'>**Exercise 1.1.3**</font> Another basic image manipulation is an image <i>transpose</i>. Look up how to take the transpose of a 2D numpy array, and in the cell below display the transpose of the image."
   ]
  },
  {
   "cell_type": "code",
   "execution_count": null,
   "metadata": {},
   "outputs": [],
   "source": [
    "..."
   ]
  },
  {
   "cell_type": "markdown",
   "metadata": {},
   "source": [
    "How is the transposed image different from the image that has been rotated clockwise by 270 degrees?"
   ]
  },
  {
   "cell_type": "code",
   "execution_count": null,
   "metadata": {},
   "outputs": [],
   "source": []
  },
  {
   "cell_type": "markdown",
   "metadata": {},
   "source": [
    "<font color='red'>**Exercise 1.1.4**</font> Below, write a function that takes in a matrix and outputs a matrix that is twice as big in each dimension, where each quarter of the new image has 1) the original matrix, 2) the matrix rotated by 90 degrees, 3) the matrix rotated by 270 degrees, and 4) the transpose of the matrix. "
   ]
  },
  {
   "cell_type": "code",
   "execution_count": null,
   "metadata": {},
   "outputs": [],
   "source": [
    "def image_tiling(image):\n",
    "    \n",
    "    ...\n",
    "    \n",
    "    return image_new"
   ]
  },
  {
   "cell_type": "code",
   "execution_count": null,
   "metadata": {},
   "outputs": [],
   "source": [
    "plt.imshow(image_tiling(image),cmap='gray')"
   ]
  },
  {
   "cell_type": "markdown",
   "metadata": {},
   "source": [
    "We've been able to rotate a matrix manually by calling a function which rotates it by 90 degrees. We now want to come up with a function that rotates a matrix some number of times. The input to the function should be the matrix to be rotated and how it should be rotated (in degrees). The function will then rotate it to the nearest multiple of 90 degrees."
   ]
  },
  {
   "cell_type": "code",
   "execution_count": null,
   "metadata": {},
   "outputs": [],
   "source": [
    "def rotate_mtx_clockwise(mtx_in, deg):\n",
    "    \n",
    "    if deg < 0:\n",
    "        return mtx_in\n",
    "    \n",
    "    n_rotations = ...\n",
    "    \n",
    "    mtx_out = mtx_in\n",
    "    for i in range(n_rotations):\n",
    "        mtx_out = rotate_mtx_90_deg(mtx_out)\n",
    "        \n",
    "    return mtx_out"
   ]
  },
  {
   "cell_type": "markdown",
   "metadata": {},
   "source": [
    "Try calling your function to rotate the matrix by 100 degrees, 200 degrees, and 300 degrees. What do you expect the output should be? Does the output match your expectations?"
   ]
  },
  {
   "cell_type": "code",
   "execution_count": null,
   "metadata": {},
   "outputs": [],
   "source": [
    "import numpy as np\n",
    "%matplotlib inline\n",
    "import matplotlib.image as mpimg\n",
    "import matplotlib.pyplot as plt\n",
    "\n",
    "image = mpimg.imread('pic1.jfif') \n",
    "image = image[0:180,30:210,1]\n",
    "plt.imshow(image,cmap='gray')\n",
    "\n",
    "plt.figure()\n",
    "plt.imshow(rotate_mtx_clockwise(image, 90),cmap='gray')\n",
    "\n",
    "plt.figure()\n",
    "plt.imshow(rotate_mtx_clockwise(image, 100),cmap='gray')\n",
    "\n",
    "plt.figure()\n",
    "plt.imshow(rotate_mtx_clockwise(image, 200),cmap='gray')\n",
    "\n",
    "plt.figure()\n",
    "plt.imshow(rotate_mtx_clockwise(image, 300),cmap='gray')"
   ]
  },
  {
   "cell_type": "markdown",
   "metadata": {},
   "source": [
    "Try rotating a matrix by 10^12 degrees. Does this work? If not, how could you write your function to more efficiently choose how many times to rotate the matrix?"
   ]
  },
  {
   "cell_type": "code",
   "execution_count": null,
   "metadata": {},
   "outputs": [],
   "source": [
    "plt.figure()\n",
    "plt.imshow(rotate_mtx_clockwise(image, 10**12),cmap='gray')"
   ]
  },
  {
   "cell_type": "markdown",
   "metadata": {},
   "source": [
    "If your code above took a long time to run, try reimplenting the function in a more efficient way."
   ]
  },
  {
   "cell_type": "code",
   "execution_count": null,
   "metadata": {},
   "outputs": [],
   "source": [
    "# More efficient implementation\n",
    "def rotate_mtx_efficient(mtx_in, deg):\n",
    "    \n",
    "    if deg < 0:\n",
    "        return mtx_in\n",
    "    \n",
    "    n_rotations = ...\n",
    "    \n",
    "    mtx_out = mtx_in\n",
    "    for i in range(n_rotations):\n",
    "        mtx_out = rotate_mtx_90_deg(mtx_out)\n",
    "        \n",
    "    return mtx_out"
   ]
  },
  {
   "cell_type": "code",
   "execution_count": null,
   "metadata": {},
   "outputs": [],
   "source": [
    "plt.figure()\n",
    "plt.imshow(rotate_mtx_efficient(image, 10**12),cmap='gray')"
   ]
  },
  {
   "cell_type": "markdown",
   "metadata": {},
   "source": [
    "## 1.2 Fourier Transform of 2D signals\n",
    "\n",
    "In the lectures, we talked about the Fourier/frequency representation of 1D signals. Specifically, we introduced the Fourier transform as a mapping from the time-domain to the frequency domain, where the the values of the Fourier transform are informative of the degree with which the corresponding frequency is \"present\" in the signal. At its heart, the Fourier transform (FT) of a time-varying signal is a decomposition into simple sinusoids of different frequencies. The output of the FT tells us which frequencies we need to compose our signal.\n",
    "\n",
    "\n",
    "`Can we extend these ideas to 2D signals? Is there a Fourier transform of a spatially-varying 2D signal? If so, what does it mean and how to compute it?`\n",
    "\n",
    "It turns out that the very same ideas that we introduced for 1D time signals extend naturally to 2D spatially-varying signals. First, we now need a decomposition into spatially variying sinusoids, rather than time-varying ones. Second, we need sinusoids that vary in two-dimensions. Such sinusoids can oscilate with different frequencies just like classical time-varying 1D sinusoids. Only now, every such sinusoid is specified by **two frequencies**. This is consistent with the fact that a 2D signal is specified by two independet variables!\n",
    "\n",
    "In this course we will avoid formalizing this extension further. Instead, we will follow a programming-based approach. We will learn how to compute the FT of a 2D signal (specifically, an image) and how to plot its magnitude and its phase. In the coming labs, we will further see how to use the information of the FT to process images.\n",
    "\n",
    "Image processing techniques that are based on processing the FT of the image are called **spectral techniques** and are very useful and popular!"
   ]
  },
  {
   "cell_type": "markdown",
   "metadata": {},
   "source": [
    "#### Read the image in a 2D array"
   ]
  },
  {
   "cell_type": "markdown",
   "metadata": {},
   "source": [
    "Let us first load the image and store it in a 2D array."
   ]
  },
  {
   "cell_type": "code",
   "execution_count": null,
   "metadata": {},
   "outputs": [],
   "source": [
    "# importing libraries for image\n",
    "import matplotlib.image as mpimg\n",
    "import matplotlib.pyplot as plt"
   ]
  },
  {
   "cell_type": "code",
   "execution_count": null,
   "metadata": {},
   "outputs": [],
   "source": [
    "# Read the image (Image should be in same folder as jupyter lab file, otherwise define a proper path to image)\n",
    "img = mpimg.imread('test_image.jpg') \n",
    "\n",
    "# check the type of image\n",
    "print(\"type of image \", type(img))\n",
    "\n",
    "# image is a 2D array\n",
    "\n",
    "# Check the Dimension of Image\n",
    "print(\"Dimension of Image \", img.shape)\n",
    "\n",
    "rows = img.shape[0]\n",
    "cols = img.shape[1]\n",
    "# Total No of pixels in the image is 512 X 512\n",
    "\n",
    "#Check the Values in the image\n",
    "print(img)\n",
    "\n",
    "\n",
    "#plot the image\n",
    "plt.imshow(img, cmap=\"gray\")"
   ]
  },
  {
   "cell_type": "markdown",
   "metadata": {},
   "source": [
    "#### 2D Fourier Transform of Image\n",
    "Computing the FT (specifically the Fast Fourier Transform) of a 2D array is very easy in Python and is done as follows:"
   ]
  },
  {
   "cell_type": "code",
   "execution_count": null,
   "metadata": {},
   "outputs": [],
   "source": [
    "import numpy as np\n",
    "\n",
    "FT_img = np.fft.fft2(img)"
   ]
  },
  {
   "cell_type": "markdown",
   "metadata": {},
   "source": [
    "<font color='red'>**Exercise 1.2.1**</font> Print the output of FT_img to see the content of the FT. Observe that the output is a 2D array (just like the input!). What is the dimension of the array? Are the entries real or complex?"
   ]
  },
  {
   "cell_type": "code",
   "execution_count": null,
   "metadata": {},
   "outputs": [],
   "source": [
    "print(...)    # print the type of FT_img\n",
    "print(...)       # print its size\n",
    "print(...)          # print its values "
   ]
  },
  {
   "cell_type": "markdown",
   "metadata": {},
   "source": [
    "Just as we did in the case of 1D signals, it is convenient to \"center\" the FT such that the DC component is at the center. We do this below."
   ]
  },
  {
   "cell_type": "code",
   "execution_count": null,
   "metadata": {},
   "outputs": [],
   "source": [
    "'''\n",
    "Now once you got the result, zero frequency component (DC component) will be at top left corner. \n",
    "If you want to bring it to center, you need to shift the result by \\frac{N}{2} in both the directions. \n",
    "This is simply done by the function, np.fft.fftshift(). (It is more easier to analyze). \n",
    "'''\n",
    "FT_img_shift = np.fft.fftshift(FT_img)"
   ]
  },
  {
   "cell_type": "markdown",
   "metadata": {},
   "source": [
    "Try to plot the **magnitude** of the 2D spectrum"
   ]
  },
  {
   "cell_type": "code",
   "execution_count": null,
   "metadata": {},
   "outputs": [],
   "source": [
    "plt.imshow(abs(FT_img_shift), cmap = \"gray\")\n",
    "plt.colorbar()"
   ]
  },
  {
   "cell_type": "markdown",
   "metadata": {},
   "source": [
    "Why is it hard to see anything? What are the min and maximum values of the magnitude?"
   ]
  },
  {
   "cell_type": "code",
   "execution_count": null,
   "metadata": {},
   "outputs": [],
   "source": [
    "FT_img_abs = abs(FT_img_shift)\n",
    "print('Minimum value of Fourier magnitude is:',...)\n",
    "print('Maximum value of Fourier magnitude is:',...)"
   ]
  },
  {
   "cell_type": "markdown",
   "metadata": {},
   "source": [
    "To circumvent the issue above, we will instead plot the magnitude values in decibel (dB) as follows."
   ]
  },
  {
   "cell_type": "code",
   "execution_count": null,
   "metadata": {},
   "outputs": [],
   "source": [
    "magnitude_spectrum = 20*np.log(np.abs(FT_img_shift))   # magnitude of spectrum in dB\n",
    "\n",
    "plt.imshow(magnitude_spectrum, cmap = \"gray\")\n",
    "plt.colorbar()"
   ]
  },
  {
   "cell_type": "markdown",
   "metadata": {},
   "source": [
    "We can now clearly see some pattern on the magnitude of the Fourier transform. Specifically, observe that the larger values (whiter regions) are located at the center of image, which corresponds to low frequencies. In other words, the low-frequencies of this image have high energy."
   ]
  },
  {
   "cell_type": "markdown",
   "metadata": {},
   "source": [
    "Just like the FT of an 1D time-signal is an **invertible** transformation, the same is true for the FT of a 2D signal. Namely, we can go back and forth between the original image and its FT!"
   ]
  },
  {
   "cell_type": "code",
   "execution_count": null,
   "metadata": {},
   "outputs": [],
   "source": [
    "# Reconstructing Image using both Magnitude and Phase Information\n",
    "img_back = np.fft.ifft2(FT_img_shift)\n",
    "img_back = np.abs(img_back)\n",
    "plt.imshow(img_back, cmap=\"gray\")"
   ]
  },
  {
   "cell_type": "markdown",
   "metadata": {},
   "source": [
    "Remember: There is information both in the magnitude and in the phase of the FT! Here is what happens if we ignore the phase! Not good, eh? :)"
   ]
  },
  {
   "cell_type": "code",
   "execution_count": null,
   "metadata": {},
   "outputs": [],
   "source": [
    "# Reconstructing Image just using Magnitude Information\n",
    "img_back_mag = np.fft.ifft2(np.abs(FT_img_shift))\n",
    "img_back_mag = np.abs(img_back_mag)\n",
    "plt.imshow(img_back_mag, cmap = \"gray\")"
   ]
  },
  {
   "cell_type": "markdown",
   "metadata": {},
   "source": [
    "Next, let us convert the grayscale image to a binary image and plot the Fourier transform of the binary image. Recall the following piece of code from lab 5."
   ]
  },
  {
   "cell_type": "code",
   "execution_count": null,
   "metadata": {},
   "outputs": [],
   "source": [
    "# Convert in binary image \n",
    "\n",
    "# pixel_value > 128 then it is 1, otherwise it is zero\n",
    "\n",
    "# Defining and Intializing a New 2D array \n",
    "img_binary = np.zeros((rows,cols), dtype = int)\n",
    "print(img_binary.shape)\n",
    "print(img_binary)\n",
    "threshold = 128\n",
    "for i in range(rows):\n",
    "    for j in range(cols):\n",
    "        if img[i][j] >= 128:\n",
    "            img_binary[i][j] = 1\n",
    "        else:\n",
    "            img_binary[i][j] = 0\n",
    "            \n",
    "#print(img_new)\n",
    "plt.imshow(img_binary, cmap=\"gray\")"
   ]
  },
  {
   "cell_type": "markdown",
   "metadata": {},
   "source": [
    "<font color='red'>**Exercise 1.2.2**</font> Compute the Fourier transform of the binary image `img_binary`, shift the content as above and plot the magnitude of the fourier transform in dB."
   ]
  },
  {
   "cell_type": "code",
   "execution_count": null,
   "metadata": {},
   "outputs": [],
   "source": [
    "f_1 = np.fft.fft2(...)           # compute the FT of the binary image\n",
    "fshift_1 = np.fft.fftshift(...)         # shift the fourier content so that the (0,0) frequency is at the center of the array\n",
    "\n",
    "magnitude_spectrum_1 = ...  # comvert the magnitude to dB\n",
    "\n",
    "plt.imshow(magnitude_spectrum_1, cmap =\"gray\")  # plot the magnitude"
   ]
  },
  {
   "cell_type": "markdown",
   "metadata": {},
   "source": [
    "Observe that the magnitude content is different to that of the grayscale image."
   ]
  },
  {
   "cell_type": "markdown",
   "metadata": {},
   "source": [
    "<font color='red'>**Exercise 1.2.3**</font> Write a function that takes as argument an image and returns an array of the same size with entries equal to the shifted coefficients of the Fourier transform."
   ]
  },
  {
   "cell_type": "code",
   "execution_count": null,
   "metadata": {},
   "outputs": [],
   "source": [
    "def my_img_fft(img_in):\n",
    "    ... = np.fft.fft2(...)          \n",
    "    ... = np.fft.fftshift(...)\n",
    "    \n",
    "    return ..."
   ]
  },
  {
   "cell_type": "markdown",
   "metadata": {},
   "source": [
    "## 1.3 Phase is important\n",
    "\n",
    "In this part, we will demonstrate that the phase information of the Fourier Transform is important, especially so for images! \n",
    "\n",
    "To demonstrate this, we will perform the following experiment. We will load two images, compute their FTs and swap their phases. Then, we will use the inverse Fourier transform to map the FTs with swaped phases back to the original domain. We will plot the new images and see that they are highly distorted!"
   ]
  },
  {
   "cell_type": "markdown",
   "metadata": {},
   "source": [
    "To begin with, go through and execute the following piece of code. Make sure that you understand how to go back and forth from the original image domain to the fourier transform domain. The FFT transform is invertible (i.e., there is no loss of information)."
   ]
  },
  {
   "cell_type": "code",
   "execution_count": null,
   "metadata": {},
   "outputs": [],
   "source": [
    "# load the two images\n",
    "img1 = mpimg.imread('test_image.jpg') \n",
    "img2 = mpimg.imread('cat.jpg') \n",
    "\n",
    "# plot the two images\n",
    "fig = plt.figure()\n",
    "fig.suptitle(\"Original images\")\n",
    "\n",
    "fig.add_subplot(1,2,1)\n",
    "plt.imshow(abs(img1), cmap=\"gray\")\n",
    "plt.title(\"Person\")\n",
    "\n",
    "fig.add_subplot(1,2,2)\n",
    "plt.imshow(abs(img2), cmap=\"gray\")\n",
    "plt.title(\"Cat\")"
   ]
  },
  {
   "cell_type": "markdown",
   "metadata": {},
   "source": [
    "Use your function `my_img_fft` to compute the Fourier transform of the two images"
   ]
  },
  {
   "cell_type": "code",
   "execution_count": null,
   "metadata": {},
   "outputs": [],
   "source": [
    "# compute Fourier transforms of the images\n",
    "FT1 = ...\n",
    "FT2 = ..."
   ]
  },
  {
   "cell_type": "code",
   "execution_count": null,
   "metadata": {},
   "outputs": [],
   "source": [
    "# compute the *inverse* Fourier transforms of the images\n",
    "img1_new = np.fft.ifft2(FT1)\n",
    "img2_new = np.fft.ifft2(FT2)\n",
    "\n",
    "fig = plt.figure()\n",
    "fig.suptitle(\"Images after inverse FT\")\n",
    "\n",
    "fig.add_subplot(1,2,1)\n",
    "plt.imshow(abs(img1_new), cmap=\"gray\")\n",
    "plt.title(\"Human\")\n",
    "\n",
    "fig.add_subplot(1,2,2)\n",
    "plt.imshow(abs(img2_new), cmap=\"gray\")\n",
    "plt.title(\"Cat\")"
   ]
  },
  {
   "cell_type": "markdown",
   "metadata": {},
   "source": [
    "Next, we want to swap the phase information between the FTs of two images, i.e., between  the arrays FT1 and FT2. Follow the steps below."
   ]
  },
  {
   "cell_type": "markdown",
   "metadata": {},
   "source": [
    "<font color='red'>**Exercise 1.3.1**</font> Write a function `swap_phase` that takes as argument two complex numbers z1 and z2 and returns complex numbers z3 and z4, such that \n",
    "$$\n",
    "|z_3| = |z_1|,~~\\rm{arg}(z_3) = \\rm{arg}(z_2),\n",
    "$$\n",
    "and \n",
    "$$\n",
    "|z_4| = |z_2|,~~\\rm{arg}(z_4) = \\rm{arg}(z_1).\n",
    "$$"
   ]
  },
  {
   "cell_type": "markdown",
   "metadata": {},
   "source": [
    "You may need to use the following function that converts polar to cartesian coordinates."
   ]
  },
  {
   "cell_type": "code",
   "execution_count": null,
   "metadata": {},
   "outputs": [],
   "source": [
    "def pol2cart(rho, phi):\n",
    "    x = ...\n",
    "    y = ...\n",
    "    z = x + y*1j\n",
    "    return z"
   ]
  },
  {
   "cell_type": "markdown",
   "metadata": {},
   "source": [
    "Test the function works properly:"
   ]
  },
  {
   "cell_type": "code",
   "execution_count": null,
   "metadata": {},
   "outputs": [],
   "source": [
    "print(pol2cart(1,0))\n",
    "print(pol2cart(1,np.pi/2))\n",
    "print(pol2cart(1,-np.pi/2))\n",
    "print(pol2cart(1,-np.pi))\n",
    "print(pol2cart(1,-np.pi/4))"
   ]
  },
  {
   "cell_type": "markdown",
   "metadata": {},
   "source": [
    "Now use the function `pol2cart` to define the function `swap_phase`."
   ]
  },
  {
   "cell_type": "code",
   "execution_count": null,
   "metadata": {},
   "outputs": [],
   "source": [
    "def swap_phase(z1,z2):\n",
    "    z3 = pol2cart(abs(...),np.angle(...))\n",
    "    z4 = pol2cart(abs(...),np.angle(...))\n",
    "    \n",
    "    return (z3,z4)"
   ]
  },
  {
   "cell_type": "markdown",
   "metadata": {},
   "source": [
    "Make sure that your function works properly:"
   ]
  },
  {
   "cell_type": "code",
   "execution_count": null,
   "metadata": {},
   "outputs": [],
   "source": [
    "z1 = 1 + 1j\n",
    "z2 = 1 - 1j\n",
    "print(swap_phase(z1,z2))"
   ]
  },
  {
   "cell_type": "markdown",
   "metadata": {},
   "source": [
    "Also, observe that the function works properly if it is passed as arguments arrays rather than scalars."
   ]
  },
  {
   "cell_type": "code",
   "execution_count": null,
   "metadata": {},
   "outputs": [],
   "source": [
    "z1 = np.array([1 + 1j, 1-1j])\n",
    "z2 = np.array([1 - 1j, 1+1j])\n",
    "\n",
    "(z3,z4) = swap_phase(z1,z2)\n",
    "\n",
    "print(z3)\n",
    "print(z4)"
   ]
  },
  {
   "cell_type": "markdown",
   "metadata": {},
   "source": [
    "<font color='red'>**Exercise 1.3.2**</font> Use the function that you defined above to swap the phases of FT1 and FT2. Then, call the inverse fourier transform on the new Fourier transform arrays. Plot the new images. What do you observe?"
   ]
  },
  {
   "cell_type": "code",
   "execution_count": null,
   "metadata": {},
   "outputs": [],
   "source": [
    "# load the two images\n",
    "...\n",
    "\n",
    "# plot the two images\n",
    "fig = plt.figure()\n",
    "fig.suptitle(\"Original images\")\n",
    "\n",
    "fig.add_subplot(1,2,1)\n",
    "plt.imshow(abs(...), cmap=\"gray\")\n",
    "plt.title(\"Person\")\n",
    "\n",
    "fig.add_subplot(1,2,2)\n",
    "plt.imshow(abs(...), cmap=\"gray\")\n",
    "plt.title(\"Cat\")\n",
    "\n",
    "# ************************** #\n",
    "# swap phases\n",
    "# ************************** #\n",
    "(FT1_new,FT2_new) = swap_phase(FT1,FT2)\n",
    "\n",
    "# compute the *inverse* Fourier transforms of FT1_new and FT2_new\n",
    "img1_new = np.fft.ifft2(...)\n",
    "img2_new = np.fft.ifft2(...)\n",
    "\n",
    "fig = plt.figure()\n",
    "fig.suptitle(\"Images after inverse FT\")\n",
    "\n",
    "fig.add_subplot(1,2,1)\n",
    "plt.imshow(abs(img1_new), cmap=\"gray\")\n",
    "plt.title(\"Human\")\n",
    "\n",
    "fig.add_subplot(1,2,2)\n",
    "plt.imshow(abs(img2_new), cmap=\"gray\")\n",
    "plt.title(\"Cat\")"
   ]
  },
  {
   "cell_type": "code",
   "execution_count": null,
   "metadata": {},
   "outputs": [],
   "source": []
  }
 ],
 "metadata": {
  "kernelspec": {
   "display_name": "Python 3",
   "language": "python",
   "name": "python3"
  },
  "language_info": {
   "codemirror_mode": {
    "name": "ipython",
    "version": 3
   },
   "file_extension": ".py",
   "mimetype": "text/x-python",
   "name": "python",
   "nbconvert_exporter": "python",
   "pygments_lexer": "ipython3",
   "version": "3.7.0"
  }
 },
 "nbformat": 4,
 "nbformat_minor": 2
}
