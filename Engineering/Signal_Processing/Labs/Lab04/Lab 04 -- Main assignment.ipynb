{
 "cells": [
  {
   "cell_type": "markdown",
   "metadata": {},
   "source": [
    "## Lab 04: Fourier Series\n",
    "\n",
    "The goal of today's lab is that you practice (further) on the following topics:\n",
    "\n",
    "1. Python functions\n",
    "2. if/else statements\n",
    "3. Numpy's arrays\n",
    "4. Fourier series "
   ]
  },
  {
   "cell_type": "markdown",
   "metadata": {},
   "source": [
    "We will work with the following periodic signal with period $T_s=2$ sec:\n",
    "$$\n",
    "x(t) = \\begin{cases} 1, & 0 \\le t < 1/2,\\\\\n",
    "0, & 1/2 \\le t < 3/2, \\\\\n",
    "2, & 3/2 \\le t < 2.\n",
    "\\end{cases}\n",
    "$$\n",
    "and\n",
    "$$\n",
    "x(t+2)=x(t), \\qquad \\forall t.\n",
    "$$"
   ]
  },
  {
   "cell_type": "markdown",
   "metadata": {},
   "source": [
    "### 1.1 Plot signal in time domain\n",
    "\n",
    "We will start by writing code that plots two periods of this signal. Consider the following fine discretization of the time variable $t$:"
   ]
  },
  {
   "cell_type": "code",
   "execution_count": 4,
   "metadata": {},
   "outputs": [],
   "source": [
    "import numpy as np\n",
    "fs = 44100     # sampling frequency\n",
    "\n",
    "t_max = 4       # set to two periods\n",
    "N = int(t_max*fs) # number of samples\n",
    "# Create an array of time\n",
    "t = np.linspace(0,t_max,N)"
   ]
  },
  {
   "cell_type": "markdown",
   "metadata": {},
   "source": [
    "For each point in time, we can output a value of the function $x(t)$.\n",
    "\n",
    "<font color='red'>**Exercise 1.1.1**</font> Using `if-statements`, create a python function that takes a time instant $t$ as its input and outputs the signal value $x(t)$ at that time."
   ]
  },
  {
   "cell_type": "code",
   "execution_count": 5,
   "metadata": {},
   "outputs": [],
   "source": [
    "def stair_signal_value(time):\n",
    "    ts = time%2\n",
    "    if (ts < 0.5 and ts >= 0):\n",
    "        val = 1\n",
    "    elif (ts < 1.5 and ts >= 0.5):\n",
    "        val = 0\n",
    "    elif (ts < 2 and ts >= 1.5):\n",
    "        val = 2\n",
    "    # insert some if statements that will return the value of the function at a specific time between 0 and 4 seconds\n",
    "    return val\n"
   ]
  },
  {
   "cell_type": "markdown",
   "metadata": {},
   "source": [
    "One way to represent the signal $x(t)$ in Python, is by storing its values in an array.\n",
    "\n",
    "<font color='red'>**Exercise 1.1.2**</font> Following the steps below, construct an array whose elements are the values of the signal $x(t)$ over two time periods."
   ]
  },
  {
   "cell_type": "markdown",
   "metadata": {},
   "source": [
    "To construct our signal, first initialize it as an array of zeros of the correct length."
   ]
  },
  {
   "cell_type": "code",
   "execution_count": 6,
   "metadata": {},
   "outputs": [],
   "source": [
    "length = len(t) # Get this from the array t\n",
    "xt = np.zeros(length)"
   ]
  },
  {
   "cell_type": "markdown",
   "metadata": {},
   "source": [
    "Now loop through the time array. \n",
    "\n",
    "At each iteration, update the corresponding element of the *signal vector*. Do this by calling the function you defined previously."
   ]
  },
  {
   "cell_type": "code",
   "execution_count": 7,
   "metadata": {},
   "outputs": [],
   "source": [
    "for i in range(length):\n",
    "    \n",
    "    time = t[i] # get the time at the current iteration\n",
    "    \n",
    "    val = stair_signal_value(time) # find the value of the function at that time\n",
    "    \n",
    "    # Now assign it to the corresponding element of the signal vector\n",
    "    xt[i] = val\n"
   ]
  },
  {
   "cell_type": "markdown",
   "metadata": {},
   "source": [
    "By now we should have our signal vector xt. Plot it to make sure it's as we expect.\n",
    "\n",
    "If not, go back and fix your code above."
   ]
  },
  {
   "cell_type": "code",
   "execution_count": 8,
   "metadata": {},
   "outputs": [
    {
     "data": {
      "text/plain": [
       "[<matplotlib.lines.Line2D at 0x106603f0>]"
      ]
     },
     "execution_count": 8,
     "metadata": {},
     "output_type": "execute_result"
    },
    {
     "data": {
      "image/png": "[encoded data removed]",
      "text/plain": [
       "<Figure size 432x288 with 1 Axes>"
      ]
     },
     "metadata": {
      "needs_background": "light"
     },
     "output_type": "display_data"
    }
   ],
   "source": [
    "%matplotlib inline  \n",
    "import matplotlib.pyplot as plt\n",
    "\n",
    "fig, ax = plt.subplots()\n",
    "ax.plot(t,xt)"
   ]
  },
  {
   "cell_type": "markdown",
   "metadata": {},
   "source": [
    "### 1.2 Fourier synthesis\n",
    "\n",
    "Next, we wish to construct the same signal from its Fourier Series coefficients (also known as Fourier synthesis). \n",
    "\n",
    "The Fourier coefficients are as follows:\n",
    "\n",
    "\\begin{align*}\n",
    "    & A_0 = 1.5 \\\\\n",
    "    & A_k = \\frac{3}{\\pi k}\\sin(\\frac{\\pi k}{2}) \\qquad \\qquad \\text{for } k = \\{1,2,3, \\ldots \\} \\\\\n",
    "    & B_k = \\frac{1}{\\pi k}( -1 + \\cos(\\frac{\\pi k}{2})) \\quad \\text{for } k = \\{1,2,3, \\ldots \\} \\\\\n",
    "\\end{align*}\n",
    "\n",
    "Recall that if we want to build this signal from its Fourier Series coefficients, we do it as follows: $$\\hat{x}(t)={A_0}/{2}+\\sum_{k=1}^{\\infty}A_k\\cos(\\pi k t ) + B_k\\sin(\\pi k t )$$\n",
    "\n",
    "We will build the signal sequentially. "
   ]
  },
  {
   "cell_type": "markdown",
   "metadata": {},
   "source": [
    "<font color='red'>**Exercise 1.2.1**</font> First, create and plot a signal of the correct length where each element has value $A_0/2$ (i.e., the DC-term): $$x_0(t) = A_0/2$$"
   ]
  },
  {
   "cell_type": "code",
   "execution_count": 9,
   "metadata": {},
   "outputs": [
    {
     "data": {
      "text/plain": [
       "[<matplotlib.lines.Line2D at 0x10c6b7b0>]"
      ]
     },
     "execution_count": 9,
     "metadata": {},
     "output_type": "execute_result"
    },
    {
     "data": {
      "image/png": "[encoded data removed]",
      "text/plain": [
       "<Figure size 432x288 with 1 Axes>"
      ]
     },
     "metadata": {
      "needs_background": "light"
     },
     "output_type": "display_data"
    }
   ],
   "source": [
    "A_0 = 1.5\n",
    "x0 = np.ones(length)* A_0/2\n",
    "\n",
    "fig, ax = plt.subplots()\n",
    "ax.plot(t,x0)"
   ]
  },
  {
   "cell_type": "markdown",
   "metadata": {},
   "source": [
    "<font color='red'>**Exercise 1.2.2**</font> Define functions that take as input an integer $k$ and return the corresponding Fourier series coefficients $A_k$ and $B_k$ associated with that 'harmonic'"
   ]
  },
  {
   "cell_type": "code",
   "execution_count": 10,
   "metadata": {},
   "outputs": [],
   "source": [
    "def Ak(k):\n",
    "    \n",
    "    # Handle the special case that k = 0\n",
    "    if k == 0:\n",
    "        return 1.5\n",
    "    # Otherwise, handle the case that k > 0\n",
    "    val = 3 * np.sin(np.pi * k / 2)/(np.pi * k)\n",
    "    return val\n",
    "\n",
    "def Bk(k):\n",
    "    # Handle the special case that k = 0\n",
    "    if k == 0:\n",
    "        return 0\n",
    "    # Otherwise, handle the case that k > 0\n",
    "    val = (-1 + np.cos(np.pi * k / 2))/(np.pi * k)\n",
    "    return val"
   ]
  },
  {
   "cell_type": "markdown",
   "metadata": {},
   "source": [
    "<font color='red'>**Exercise 1.2.3**</font> Create and plot a signal that has the first two terms: \n",
    "\\begin{align*}\n",
    "    x_1(t) &= A_0/2 + A_1\\cos( \\pi t) + B_1 \\sin( \\pi t) \\\\\n",
    "    &= x_0(t) + A_1\\cos( \\pi t) + B_1 \\sin( \\pi t)\n",
    "\\end{align*}\n",
    "\n",
    "Note that we don't have to start from scratch, we can just a new part to the signal we already made, called `x0`."
   ]
  },
  {
   "cell_type": "code",
   "execution_count": 11,
   "metadata": {},
   "outputs": [
    {
     "data": {
      "text/plain": [
       "[<matplotlib.lines.Line2D at 0x11c123b0>]"
      ]
     },
     "execution_count": 11,
     "metadata": {},
     "output_type": "execute_result"
    },
    {
     "data": {
      "image/png": "[encoded data removed]",
      "text/plain": [
       "<Figure size 432x288 with 1 Axes>"
      ]
     },
     "metadata": {
      "needs_background": "light"
     },
     "output_type": "display_data"
    }
   ],
   "source": [
    "# Hint: for A1 and B1 we can use the functions we defined above to give us the coefficients\n",
    "A1 = Ak(1) * np.cos(np.pi * t)\n",
    "B1 = Bk(1) * np.sin(np.pi * t)\n",
    "x1 = Ak(0) + A1 + B1\n",
    "\n",
    "fig, ax = plt.subplots()\n",
    "ax.plot(t,x1)"
   ]
  },
  {
   "cell_type": "markdown",
   "metadata": {},
   "source": [
    "<font color='red'>**Exercise 1.2.4**</font> Now do this with the first three terms:\n",
    "\\begin{align*}\n",
    "    x_2(t) &= A_0/2 + A_1\\cos(\\pi t) + B_1 \\sin( \\pi t) + A_2\\cos(2 \\pi t) + B_2 \\sin(2 \\pi t) \\\\\n",
    "    &= x_1(t) + A_2\\cos(2 \\pi t) + B_2 \\sin(2 \\pi t)\n",
    "\\end{align*}\n",
    "\n",
    "Again, we can just add to the signal `x1` we made in the previous cell."
   ]
  },
  {
   "cell_type": "code",
   "execution_count": 12,
   "metadata": {},
   "outputs": [
    {
     "data": {
      "text/plain": [
       "(0, 4)"
      ]
     },
     "execution_count": 12,
     "metadata": {},
     "output_type": "execute_result"
    },
    {
     "data": {
      "image/png": "[encoded data removed]",
      "text/plain": [
       "<Figure size 432x288 with 1 Axes>"
      ]
     },
     "metadata": {
      "needs_background": "light"
     },
     "output_type": "display_data"
    }
   ],
   "source": [
    "# Hint: for A2 and B2 we can use the functions we defined above to give us the coefficients\n",
    "A2 = Ak(2) * np.cos(2 * np.pi * t)\n",
    "B2 = Bk(2) * np.sin(2 * np.pi * t)\n",
    "x2 = x1 + A2 + B2\n",
    "\n",
    "fig, ax = plt.subplots()\n",
    "ax.plot(t,x2)\n",
    "ax.set_xlim(0,4)"
   ]
  },
  {
   "cell_type": "markdown",
   "metadata": {},
   "source": [
    "You can see that as we add more terms, the reconstructed signal starts to look more like the original signal. However, it's tedious to do each step by hand. Instead, we can automate this in a for loop!\n",
    "\n",
    "<font color='red'>**Exercise 1.2.5**</font> Create a function that takes as input the number of coefficients to use and outputs a signal reconstructed using that number of Fourier Series coefficients. Use the convention that specifying an input of '0' means that we only give back a signal constructed from the DC term, A_0."
   ]
  },
  {
   "cell_type": "code",
   "execution_count": 13,
   "metadata": {},
   "outputs": [],
   "source": [
    "def reconstructed_signal(num_coeffs):\n",
    "    \n",
    "    # In all cases add the DC term.\n",
    "    A_0 = Ak(0)\n",
    "    x0 = np.ones(length) * A_0/2\n",
    "    \n",
    "    x_reconstructed = x0 # this will be the array that is returned out of the function\n",
    "    \n",
    "    # Now make a for loop that will run once for each coefficient we wish to add\n",
    "    for k in range(1,num_coeffs) :\n",
    "        A_k = Ak(k)\n",
    "        B_k = Bk(k)\n",
    "        # As before, we can keep adding on to the signal we reconstructed from the prior coefficients\n",
    "        x_reconstructed = x_reconstructed + A_k * np.cos(np.pi * k * t) + B_k * np.sin(np.pi * k * t)\n",
    "        \n",
    "    return x_reconstructed\n",
    "    "
   ]
  },
  {
   "cell_type": "markdown",
   "metadata": {},
   "source": [
    "Now we can easily reconstruct our signal using different numbers of coefficients! \n",
    "\n",
    "<font color='red'>**Exercise 1.2.6**</font> Try reconstructions using the first 3 coefficients, the first 10 coefficients, and the first 100 coefficients. How does the reconstruction change as we add more coefficients?"
   ]
  },
  {
   "cell_type": "code",
   "execution_count": 14,
   "metadata": {},
   "outputs": [
    {
     "data": {
      "text/plain": [
       "[<matplotlib.lines.Line2D at 0x11ce3950>]"
      ]
     },
     "execution_count": 14,
     "metadata": {},
     "output_type": "execute_result"
    },
    {
     "data": {
      "image/png": "[encoded data removed]",
      "text/plain": [
       "<Figure size 432x288 with 1 Axes>"
      ]
     },
     "metadata": {
      "needs_background": "light"
     },
     "output_type": "display_data"
    },
    {
     "data": {
      "image/png": "[encoded data removed]",
      "text/plain": [
       "<Figure size 432x288 with 1 Axes>"
      ]
     },
     "metadata": {
      "needs_background": "light"
     },
     "output_type": "display_data"
    },
    {
     "data": {
      "image/png": "[encoded data removed]",
      "text/plain": [
       "<Figure size 432x288 with 1 Axes>"
      ]
     },
     "metadata": {
      "needs_background": "light"
     },
     "output_type": "display_data"
    }
   ],
   "source": [
    "x3 = reconstructed_signal(3)\n",
    "x10 = reconstructed_signal(10)\n",
    "x100 = reconstructed_signal(100)\n",
    "\n",
    "# Now plot these three signals on top of the original signal\n",
    "\n",
    "fig, ax = plt.subplots()\n",
    "ax.plot(t,x3)\n",
    "ax.plot(t,xt)\n",
    "\n",
    "fig, ax = plt.subplots()\n",
    "ax.plot(t,x10)\n",
    "ax.plot(t,xt)\n",
    "\n",
    "fig, ax = plt.subplots()\n",
    "ax.plot(t,x100)\n",
    "ax.plot(t,xt)"
   ]
  },
  {
   "cell_type": "markdown",
   "metadata": {},
   "source": [
    "### 1.3 FFT\n",
    "\n",
    "The Fast Fourier Transform (FFT) is an algorithm that computes the frequency spectrum of a discrete signal in a computationally efficient way.\n",
    "\n",
    "In this part, we will see how the Fourier decomposition that we saw above relates to the FFT output."
   ]
  },
  {
   "cell_type": "markdown",
   "metadata": {},
   "source": [
    "<font color='red'>**Exercise 1.3.1**</font> For the same signal $x(t)$ above, define a Python function that computes the Fourier coefficients $C_k$ corresponding to the expansion:\n",
    "\n",
    "$$\n",
    "x(t) = C_0 + \\sum_{k=1}^{+\\infty} C_k \\cos(\\pi t + \\phi_k)\n",
    "$$\n",
    "\n",
    "*(Hint: How are the $C_k$'s related to the $A_k$'s and $B_k$'s that you computed earlier?)*"
   ]
  },
  {
   "cell_type": "code",
   "execution_count": 15,
   "metadata": {},
   "outputs": [],
   "source": [
    "def Ck(k):\n",
    "        \n",
    "    # Handle the special case that k = 0\n",
    "    if k == 0:\n",
    "        return Ak(0)\n",
    "    # Otherwise, handle the case that k > 0\n",
    "    val = (Ak(k)**2 + Bk(k)**2) ** 0.5\n",
    "    return val\n"
   ]
  },
  {
   "cell_type": "markdown",
   "metadata": {},
   "source": [
    "<font color='red'>**Exercise 1.3.2**</font> For the same signal $x(t)$ above, define a Python function that computes the magnitudes $|X_k|$ of the *complex* Fourier coefficients $X_k$ corresponding to the expansion:\n",
    "\n",
    "$$\n",
    "x(t) = X_0 + \\sum_{k=1}^{+\\infty}( X_k e^{j\\pi k t} + X_{-k} e^{-j\\pi k t} )\n",
    "$$\n",
    "\n",
    "*(Hint: How are the $X_k$'s related to the $C_k$'s that you just computed? Remember that the energy is now split into positive and negative frequencies)*"
   ]
  },
  {
   "cell_type": "code",
   "execution_count": 16,
   "metadata": {},
   "outputs": [],
   "source": [
    "def Xk_magnitude(k):\n",
    "    \n",
    "    # Handle the special case that k = 0\n",
    "    if k == 0:\n",
    "        return Ak(0)\n",
    "    # Otherwise, handle the case that k > 0 or k<0\n",
    "    val = 0.5 * Ck(k)\n",
    "    return val"
   ]
  },
  {
   "cell_type": "markdown",
   "metadata": {},
   "source": [
    "<font color='red'>**Exercise 1.3.3**</font> Print the magnitudes of the coefficients $X_1,X_2,\\ldots,X_{10}$."
   ]
  },
  {
   "cell_type": "code",
   "execution_count": 17,
   "metadata": {},
   "outputs": [
    {
     "name": "stdout",
     "output_type": "stream",
     "text": [
      "0.5032921210448703\n",
      "0.15915494309189535\n",
      "0.16776404034829012\n",
      "2.923628874389532e-17\n",
      "0.10065842420897407\n",
      "0.05305164769729845\n",
      "0.07189887443498148\n",
      "2.923628874389532e-17\n",
      "0.05592134678276337\n"
     ]
    }
   ],
   "source": [
    "for i in range(9):\n",
    "    print(Xk_magnitude(i+1))"
   ]
  },
  {
   "cell_type": "markdown",
   "metadata": {},
   "source": [
    "Run the following cell to call the FFT function and to compute the corresponding frequencies"
   ]
  },
  {
   "cell_type": "code",
   "execution_count": 18,
   "metadata": {},
   "outputs": [],
   "source": [
    "S_f = np.fft.fft(xt)             # list of FFT coefficients\n",
    "freqs = fs/N*np.linspace(0,N-1,N) # list of frequencies corresponding to the coefficients returned by fft"
   ]
  },
  {
   "cell_type": "markdown",
   "metadata": {},
   "source": [
    "<font color='red'>**Exercise 1.3.4**</font> Plot the output of the FFT function in the frequency domain."
   ]
  },
  {
   "cell_type": "code",
   "execution_count": 24,
   "metadata": {},
   "outputs": [
    {
     "data": {
      "text/plain": [
       "(0, 50)"
      ]
     },
     "execution_count": 24,
     "metadata": {},
     "output_type": "execute_result"
    },
    {
     "data": {
      "image/png": "[encoded data removed]",
      "text/plain": [
       "<Figure size 432x288 with 1 Axes>"
      ]
     },
     "metadata": {
      "needs_background": "light"
     },
     "output_type": "display_data"
    }
   ],
   "source": [
    "# Plot magnitude of FFT coefficients \n",
    "fig, ax = plt.subplots()\n",
    "ax.plot(freqs,S_f)\n",
    "ax.set_xlabel(\"f (Hz)\")\n",
    "ax.set_xlim(0,50)           # you might need to adjust the value here to better see the dominant frequencies"
   ]
  },
  {
   "cell_type": "markdown",
   "metadata": {},
   "source": [
    "Let us calculate the *normalized* magnitudes of the FFT output."
   ]
  },
  {
   "cell_type": "code",
   "execution_count": 20,
   "metadata": {},
   "outputs": [],
   "source": [
    "S_f_mag_normalized = S_f/N"
   ]
  },
  {
   "cell_type": "markdown",
   "metadata": {},
   "source": [
    "<font color='red'>**Exercise 1.3.5**</font> Print the first 20 entries of the vector above."
   ]
  },
  {
   "cell_type": "code",
   "execution_count": 21,
   "metadata": {},
   "outputs": [
    {
     "name": "stdout",
     "output_type": "stream",
     "text": [
      "(0.7499943310657596+0j)\n",
      "(-5.668934236766693e-06-2.0192156643357822e-10j)\n",
      "(0.47745349120529806+0.15917194942346607j)\n",
      "(-5.668934207997745e-06-6.057646982760145e-10j)\n",
      "(-1.7006802663550568e-05+0.15915494201498034j)\n",
      "(-5.668934150459849e-06-1.0096078270442904e-09j)\n",
      "(-0.15916628035448188+0.0530346394811264j)\n",
      "(-5.668934064153005e-06-1.4134509506889656e-09j)\n",
      "(-5.668934010211227e-06-1.6153725099495029e-09j)\n",
      "(-5.668933949077212e-06-1.8172940671606e-09j)\n",
      "(0.09548162697740825+0.03184799306534859j)\n",
      "(-5.668933805232475e-06-2.221137174409753e-09j)\n",
      "(-1.7006802203247355e-05+0.05305164446655345j)\n",
      "(-5.66893363261879e-06-2.6249802703869844e-09j)\n",
      "(-0.06822059777942291+0.02271941034092611j)\n",
      "(-5.66893343123616e-06-3.0288233530428547e-09j)\n",
      "(-5.668933319756491e-06-3.2307448887354224e-09j)\n",
      "(-5.668933201084585e-06-3.43266642032871e-09j)\n",
      "(0.05304030801268874+0.017700885128134586j)\n",
      "(-5.66893294216407e-06-3.836509470192924e-09j)\n"
     ]
    }
   ],
   "source": [
    "for i in range(20):\n",
    "    print(S_f_mag_normalized[i])"
   ]
  },
  {
   "cell_type": "markdown",
   "metadata": {},
   "source": [
    "<font color='red'>**Exercise 1.3.6**</font> Can you identify the values of $|X_1|,|X_2|,\\ldots,|X_{10}|$ in that list? \n",
    "Does this make sense?"
   ]
  },
  {
   "cell_type": "code",
   "execution_count": 22,
   "metadata": {},
   "outputs": [
    {
     "name": "stdout",
     "output_type": "stream",
     "text": [
      "5.668934240362811e-06\n",
      "0.5032867430674031\n",
      "5.668934240362811e-06\n",
      "0.1591549429236274\n",
      "5.668934240362811e-06\n",
      "0.16776941850878122\n",
      "5.668934240362812e-06\n",
      "5.668934240362812e-06\n",
      "5.668934240362811e-06\n"
     ]
    }
   ],
   "source": [
    "for i in range(9):\n",
    "    print(np.abs(S_f_mag_normalized[i+1]))"
   ]
  },
  {
   "cell_type": "code",
   "execution_count": 23,
   "metadata": {},
   "outputs": [
    {
     "name": "stdout",
     "output_type": "stream",
     "text": [
      "Yes, mostly equal to the magnitude\n"
     ]
    }
   ],
   "source": [
    "print(\"Yes, mostly equal to the magnitude\")"
   ]
  }
 ],
 "metadata": {
  "kernelspec": {
   "display_name": "Python 3",
   "language": "python",
   "name": "python3"
  },
  "language_info": {
   "codemirror_mode": {
    "name": "ipython",
    "version": 3
   },
   "file_extension": ".py",
   "mimetype": "text/x-python",
   "name": "python",
   "nbconvert_exporter": "python",
   "pygments_lexer": "ipython3",
   "version": "3.7.4"
  }
 },
 "nbformat": 4,
 "nbformat_minor": 2
}
