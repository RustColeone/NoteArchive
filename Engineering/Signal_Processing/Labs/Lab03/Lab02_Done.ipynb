{
 "cells": [
  {
   "cell_type": "markdown",
   "metadata": {},
   "source": [
    "# Lab 2: Sinusoids\n",
    "\n",
    "#### Goal of this part\n",
    "\n",
    "In today's lab, you'll learn how to:\n",
    "\n",
    "1. define and call your own functions\n",
    "2. manipulate boolean expressions and use if/else statements\n",
    "3. create for-loops\n",
    "4. use Numpy arrays\n",
    "5. Plot and listen to sinusoids"
   ]
  },
  {
   "cell_type": "markdown",
   "metadata": {},
   "source": [
    "# 1. Functions"
   ]
  },
  {
   "cell_type": "markdown",
   "metadata": {},
   "source": [
    "Last week we learned how to use functions that come with Python or Python modules, but it is also possible to add new functions.\n",
    "\n",
    "A **function definition** specifies the name of a new function and the sequence of statements that run when the function is called.\n",
    "\n",
    "Python functions are defined using the `def` keyword. Here is a simple example:"
   ]
  },
  {
   "cell_type": "code",
   "execution_count": 1,
   "metadata": {},
   "outputs": [
    {
     "data": {
      "text/plain": [
       "169"
      ]
     },
     "execution_count": 1,
     "metadata": {},
     "output_type": "execute_result"
    }
   ],
   "source": [
    "def sum_of_squares(a,b):\n",
    "    \"\"\"Returns sum of squares of the arguments.\"\"\"\n",
    "    return a**2+b**2\n",
    "sum_of_squares(5,12)"
   ]
  },
  {
   "cell_type": "markdown",
   "metadata": {},
   "source": [
    "The `def` keyword indicates that this is a function definition. The *name* of the function is `sum_of_squares`. The parameters in the parenthesis are called **arguments** of the function.\n",
    "\n",
    "The first line of the function definition is called the **header**; the rest is called the body. The header has to end with **a colon** and **the body has to be indented**. By convention, indentation is always four spaces. The body can contain any number of statements."
   ]
  },
  {
   "cell_type": "markdown",
   "metadata": {},
   "source": [
    "The syntax for calling the new function is the same as for built-in function:"
   ]
  },
  {
   "cell_type": "code",
   "execution_count": 2,
   "metadata": {},
   "outputs": [
    {
     "data": {
      "text/plain": [
       "25"
      ]
     },
     "execution_count": 2,
     "metadata": {},
     "output_type": "execute_result"
    }
   ],
   "source": [
    "# Call the function we defined previously\n",
    "sum_of_squares(3,4)"
   ]
  },
  {
   "cell_type": "markdown",
   "metadata": {},
   "source": [
    "Once you have defined a function, you can use it inside another function. \n",
    "\n",
    "<font color='red'>**Exercise 1.1**</font> Create a new function that computes the sum of squares of four real numbers."
   ]
  },
  {
   "cell_type": "code",
   "execution_count": 3,
   "metadata": {},
   "outputs": [
    {
     "data": {
      "text/plain": [
       "179"
      ]
     },
     "execution_count": 3,
     "metadata": {},
     "output_type": "execute_result"
    }
   ],
   "source": [
    "def sum_of_four_squares(a, b, c, d):\n",
    "    \"\"\"Returns sum of squares of the arguments.\"\"\"\n",
    "    return a**2 + b**2 + c**2 + d**2\n",
    "sum_of_four_squares(5,12,3,1)"
   ]
  },
  {
   "cell_type": "markdown",
   "metadata": {},
   "source": [
    "Function definitions get executed just like other statements, but the effect is to create function objects. The statements inside the function do not run until the function is called, and the function definition generates no output.\n",
    "\n",
    "\n",
    "As you might expect, **you have to create a function before you can run it.** In other words, the function definition has to be run before the function gets called."
   ]
  },
  {
   "cell_type": "markdown",
   "metadata": {},
   "source": [
    "<font color='red'>**Exercise 1.2**</font> Why does the following piece of code give an error? Fix the code and execute it."
   ]
  },
  {
   "cell_type": "code",
   "execution_count": 4,
   "metadata": {},
   "outputs": [
    {
     "name": "stdout",
     "output_type": "stream",
     "text": [
      "Don't worry: I am an Engineer! I fixed it...?\n",
      "Don't worry: I am an Engineer! I fixed it...?\n",
      "\n",
      "There is an error because the function at that line is not yet defined\n"
     ]
    }
   ],
   "source": [
    "def print_twice(msg):\n",
    "    print(msg)\n",
    "    print(msg)\n",
    "    \n",
    "print_twice(\"Don't worry: I am an Engineer! I fixed it...?\")\n",
    "print(\"\\nThere is an error because the function at that line is not yet defined\")"
   ]
  },
  {
   "cell_type": "markdown",
   "metadata": {},
   "source": [
    "When you create a variable inside a function, it is local, which means that it only exists\n",
    "inside the function.\n",
    "\n",
    "<font color='red'>**Exercise 1.3**</font> Why does the following piece of code give an error?"
   ]
  },
  {
   "cell_type": "code",
   "execution_count": 5,
   "metadata": {},
   "outputs": [
    {
     "name": "stdout",
     "output_type": "stream",
     "text": [
      "265\n",
      "265\n"
     ]
    }
   ],
   "source": [
    "def sum_of_squares(a,b):\n",
    "    global c\n",
    "    \"\"\"Returns sum of squares of the arguments.\"\"\"\n",
    "    c = a**2+b**2\n",
    "    return c\n",
    "\n",
    "a = 12\n",
    "b = 11\n",
    "print(sum_of_squares(a,b))\n",
    "print(c)"
   ]
  },
  {
   "cell_type": "markdown",
   "metadata": {},
   "source": [
    "<font color='red'>**Exercise 1.4**</font> Define a function that computes the area of a circle with a given radius. Call the function to compute the area of a circle of radius $\\pi$."
   ]
  },
  {
   "cell_type": "code",
   "execution_count": 7,
   "metadata": {},
   "outputs": [
    {
     "name": "stdout",
     "output_type": "stream",
     "text": [
      "12.566370614359172\n"
     ]
    }
   ],
   "source": [
    "import math\n",
    "def CircleArea(r):\n",
    "    Area = math.pi * (r**2)\n",
    "    return Area\n",
    "print(CircleArea(2))"
   ]
  },
  {
   "cell_type": "markdown",
   "metadata": {},
   "source": [
    "<font color='red'>**Exercise 1.5**</font> Define a function that computes the Euclidean distance between two points in the 2D space given by the coordinates $(x_1,y_1)$ and $(x_2,y_2)$. What is the distance of the points $(0,1)$ and $(-5,2)$?"
   ]
  },
  {
   "cell_type": "code",
   "execution_count": 9,
   "metadata": {},
   "outputs": [
    {
     "name": "stdout",
     "output_type": "stream",
     "text": [
      "5.0990195135927845\n"
     ]
    }
   ],
   "source": [
    "def DistancesBetweenPoints(PointA,PointB):\n",
    "    X = PointA[0] - PointB[0]\n",
    "    Y = PointA[1] - PointB[1]\n",
    "    return (X**2 + Y**2)**0.5\n",
    "print(DistancesBetweenPoints([0,1],[-5,2]))"
   ]
  },
  {
   "cell_type": "markdown",
   "metadata": {},
   "source": [
    "<font color='red'>**Exercise 1.6**</font> Write a function that takes two points, the center of the circle and a point on the perimeter, and computes the area of the circle. \n",
    "\n",
    "Let the center of the circle be $(1,2)$ and $(-1,-3)$ a point on the perimeter. Call the function to compute the area of the circle."
   ]
  },
  {
   "cell_type": "code",
   "execution_count": 10,
   "metadata": {},
   "outputs": [
    {
     "name": "stdout",
     "output_type": "stream",
     "text": [
      "91.106186954104\n"
     ]
    }
   ],
   "source": [
    "def AreaOfCircleSpanByTwoPoints(PointA, Center = [0,0]):\n",
    "    X = Center[0] - PointA[0]\n",
    "    Y = Center[1] - PointA[1]\n",
    "    return (X**2 + Y**2) * math.pi\n",
    "print(AreaOfCircleSpanByTwoPoints([1,2],[-1,-3]))"
   ]
  },
  {
   "cell_type": "markdown",
   "metadata": {},
   "source": [
    "### Optional arguments / Default values\n",
    "\n",
    "It is possible to write programmer-defined functions with optional arguments. For example:"
   ]
  },
  {
   "cell_type": "code",
   "execution_count": 12,
   "metadata": {},
   "outputs": [],
   "source": [
    "def print_twice(msg='default message'):\n",
    "    print(msg)\n",
    "    print(msg)"
   ]
  },
  {
   "cell_type": "markdown",
   "metadata": {},
   "source": [
    "The argument `msg` above is now **optional** and its default value is \"default message\". Call the function to see that:"
   ]
  },
  {
   "cell_type": "code",
   "execution_count": 14,
   "metadata": {},
   "outputs": [
    {
     "name": "stdout",
     "output_type": "stream",
     "text": [
      "default message\n",
      "default message\n"
     ]
    }
   ],
   "source": [
    "print_twice()"
   ]
  },
  {
   "cell_type": "markdown",
   "metadata": {},
   "source": [
    "Of course, if we call the function by passing an argument, then we can overide the default value:"
   ]
  },
  {
   "cell_type": "code",
   "execution_count": 16,
   "metadata": {},
   "outputs": [
    {
     "name": "stdout",
     "output_type": "stream",
     "text": [
      "my message!\n",
      "my message!\n"
     ]
    }
   ],
   "source": [
    "print_twice('my message!')"
   ]
  },
  {
   "cell_type": "markdown",
   "metadata": {},
   "source": [
    "It is possible (and often very useful) to create functions that **combine required and optional arguments**. The only rule is that  all the required parameters have to come first, followed by the optional ones."
   ]
  },
  {
   "cell_type": "code",
   "execution_count": 17,
   "metadata": {},
   "outputs": [],
   "source": [
    "def greet(name, msg = \"Good morning!\"):\n",
    "   \"\"\"\n",
    "   This function greets to\n",
    "   the person with the\n",
    "   provided message.\n",
    "\n",
    "   If message is not provided,\n",
    "   it defaults to \"Good\n",
    "   morning!\"\n",
    "   \"\"\"\n",
    "\n",
    "   print(\"Hello\",name + ', ' + msg)"
   ]
  },
  {
   "cell_type": "markdown",
   "metadata": {},
   "source": [
    "<font color='red'>**Exercise 1.7**</font> What is the output of the following calls to the function?"
   ]
  },
  {
   "cell_type": "code",
   "execution_count": 18,
   "metadata": {},
   "outputs": [
    {
     "name": "stdout",
     "output_type": "stream",
     "text": [
      "Hello Mary, Good morning!\n",
      "Hello Bob, How do you do?\n"
     ]
    }
   ],
   "source": [
    "greet(\"Mary\")\n",
    "greet(\"Bob\",\"How do you do?\")"
   ]
  },
  {
   "cell_type": "markdown",
   "metadata": {},
   "source": [
    "<font color='red'>**Exercise 1.8**</font> Modify your function in Exercise 1.6 so that the center of the circle is an optional argument with default value the origin of the plane. "
   ]
  },
  {
   "cell_type": "code",
   "execution_count": 21,
   "metadata": {},
   "outputs": [
    {
     "name": "stdout",
     "output_type": "stream",
     "text": [
      "6.283185307179586\n"
     ]
    }
   ],
   "source": [
    "def AreaOfCircleSpanByTwoPoints(PointA, Center = [0,0]):\n",
    "    X = Center[0] - PointA[0]\n",
    "    Y = Center[1] - PointA[1]\n",
    "    return (X**2 + Y**2) * math.pi\n",
    "print(AreaOfCircleSpanByTwoPoints([1,1]))"
   ]
  },
  {
   "cell_type": "markdown",
   "metadata": {},
   "source": [
    "### Why functions?\n",
    "(See ThinkPython book Chapter 3)\n",
    "\n",
    "* Creating a new function gives you an opportunity to name a group of statements, which makes your program **easier to read and debug**.\n",
    "* Functions can make a program **smaller** by eliminating repetitive code. Later, if you make a change, you only have to make it in one place.\n",
    "* Dividing a long program into functions allows you to debug the parts one at a time and then assemble them into a working whole.\n",
    "* Well-designed functions are often **useful for many programs.** Once you write and debug one, you can reuse it.\n"
   ]
  },
  {
   "cell_type": "markdown",
   "metadata": {},
   "source": [
    "# 2. Conditionals\n",
    "\n",
    "(Read Chapter 5 in the ThinkPython book)"
   ]
  },
  {
   "cell_type": "markdown",
   "metadata": {},
   "source": [
    "### Boolean expressions\n",
    "\n",
    "A boolean expression is an expression that is either true or false. The following examples use the **operator `==`**, which compares two operands and produces **True** if they are equal and **False** otherwise. \n",
    "\n",
    "Run the cells below."
   ]
  },
  {
   "cell_type": "code",
   "execution_count": 19,
   "metadata": {},
   "outputs": [
    {
     "data": {
      "text/plain": [
       "True"
      ]
     },
     "execution_count": 19,
     "metadata": {},
     "output_type": "execute_result"
    }
   ],
   "source": [
    "5 == 5"
   ]
  },
  {
   "cell_type": "code",
   "execution_count": 20,
   "metadata": {},
   "outputs": [
    {
     "data": {
      "text/plain": [
       "False"
      ]
     },
     "execution_count": 20,
     "metadata": {},
     "output_type": "execute_result"
    }
   ],
   "source": [
    "5 == 6"
   ]
  },
  {
   "cell_type": "markdown",
   "metadata": {},
   "source": [
    "True and False are special values that belong to the **type bool**; **they are not strings**! Check this by calling the built-in function `type`"
   ]
  },
  {
   "cell_type": "code",
   "execution_count": 21,
   "metadata": {},
   "outputs": [
    {
     "name": "stdout",
     "output_type": "stream",
     "text": [
      "<class 'bool'>\n",
      "<class 'bool'>\n"
     ]
    }
   ],
   "source": [
    "print(type(True))\n",
    "print(type(False))"
   ]
  },
  {
   "cell_type": "markdown",
   "metadata": {},
   "source": [
    "<font color='red'>**Exercise 2.1**</font> We saw that the operator `==` compares two operands and produces True if and only if they are equal. What is the meaning of the following operators?\n",
    "* `!=`\n",
    "* `>`\n",
    "* `<`\n",
    "* `>=`\n",
    "* `<=`\n",
    "\n",
    "Write code that tests the meaning of all of them."
   ]
  },
  {
   "cell_type": "code",
   "execution_count": 23,
   "metadata": {},
   "outputs": [
    {
     "name": "stdout",
     "output_type": "stream",
     "text": [
      "False\n",
      "True\n",
      "False\n",
      "False\n",
      "True\n",
      "False\n",
      "False\n",
      "True\n",
      "False\n",
      "True\n",
      "True\n",
      "False\n"
     ]
    }
   ],
   "source": [
    "print(5!=5)\n",
    "print(5!=6)\n",
    "\n",
    "print(5>5)\n",
    "print(5>6)\n",
    "print(5>4)\n",
    "\n",
    "print(5<4)\n",
    "print(5<5)\n",
    "print(5<6)\n",
    "\n",
    "print(5>=6)\n",
    "print(5>=5)\n",
    "\n",
    "print(5<=5)\n",
    "print(5<=4)\n"
   ]
  },
  {
   "cell_type": "markdown",
   "metadata": {},
   "source": [
    "# Conditional execution"
   ]
  },
  {
   "cell_type": "markdown",
   "metadata": {},
   "source": [
    "In order to write useful programs, we almost always need the ability to check conditions and change the behavior of the program accordingly. Conditional statements give us this ability. The simplest form is the **if statement**:"
   ]
  },
  {
   "cell_type": "code",
   "execution_count": 26,
   "metadata": {},
   "outputs": [
    {
     "name": "stdout",
     "output_type": "stream",
     "text": [
      "x is positive\n"
     ]
    }
   ],
   "source": [
    "x = 1\n",
    "if x > 0:\n",
    "    print('x is positive')"
   ]
  },
  {
   "cell_type": "markdown",
   "metadata": {},
   "source": [
    "The boolean expression after `if` is called **the condition**. If it is true, the indented statement runs. If not, nothing happens. \n",
    "\n",
    "*If-statements have the same structure as function definitions: a header followed by an indented body.*"
   ]
  },
  {
   "cell_type": "markdown",
   "metadata": {},
   "source": [
    "<font color='red'>**Exercise 2.2**</font> Define a function `print_if_pos` that prints the value of its numerical argument only if it is positive and does nothing otherwise. Call the function with arguments $2$ and $-3$."
   ]
  },
  {
   "cell_type": "code",
   "execution_count": 27,
   "metadata": {},
   "outputs": [
    {
     "name": "stdout",
     "output_type": "stream",
     "text": [
      "2\n"
     ]
    }
   ],
   "source": [
    "def print_if_pos(A):\n",
    "    if(A > 0):\n",
    "        print(A)\n",
    "print_if_pos(2)\n",
    "print_if_pos(-3)"
   ]
  },
  {
   "cell_type": "markdown",
   "metadata": {},
   "source": [
    "<font color='red'>**Exercise 2.3**</font> Modify the function `print_if_pos` that prints the value of its numerical argument if it is positive and prints the message \"number is negative\" otherwise. Call the function with arguments $2$ and $-3$."
   ]
  },
  {
   "cell_type": "code",
   "execution_count": 28,
   "metadata": {},
   "outputs": [
    {
     "name": "stdout",
     "output_type": "stream",
     "text": [
      "2\n",
      "Number is negative\n"
     ]
    }
   ],
   "source": [
    "def print_if_pos(A):\n",
    "    if(A > 0):\n",
    "        print(A)\n",
    "    elif(A < 0):\n",
    "        print(\"Number is negative\")\n",
    "print_if_pos(2)\n",
    "print_if_pos(-3)"
   ]
  },
  {
   "cell_type": "markdown",
   "metadata": {},
   "source": [
    "<font color='red'>**Exercise 2.4**</font> Define a function `sign` that returns whether its numerical argument is positive, negative or zero. Call the function by passing $-1$, $0$ and $1$ as arguments."
   ]
  },
  {
   "cell_type": "code",
   "execution_count": 29,
   "metadata": {},
   "outputs": [
    {
     "name": "stdout",
     "output_type": "stream",
     "text": [
      "Number is Positive\n",
      "Number is Zero\n",
      "Number is Negative\n"
     ]
    }
   ],
   "source": [
    "def sign(A):\n",
    "    if(A > 0):\n",
    "        print(\"Number is Positive\")\n",
    "    elif(A < 0):\n",
    "        print(\"Number is Negative\")\n",
    "    else:\n",
    "        print(\"Number is Zero\")\n",
    "sign(1)\n",
    "sign(0)\n",
    "sign(-1)"
   ]
  },
  {
   "cell_type": "markdown",
   "metadata": {},
   "source": [
    "# 3. For loops\n",
    "\n",
    "**for loops** are  used when you have a block of code which you want to repeat a fixed number of times. The Python for statement iterates over the members of a sequence in order, executing the block each time.\n",
    "\n",
    "Here are twp examples:"
   ]
  },
  {
   "cell_type": "code",
   "execution_count": 30,
   "metadata": {},
   "outputs": [
    {
     "name": "stdout",
     "output_type": "stream",
     "text": [
      "1\n",
      "3\n",
      "5\n",
      "7\n"
     ]
    }
   ],
   "source": [
    "# print the first four prime numbers\n",
    "for i in [1,3,5,7]:\n",
    "    print(i)"
   ]
  },
  {
   "cell_type": "code",
   "execution_count": 31,
   "metadata": {},
   "outputs": [
    {
     "name": "stdout",
     "output_type": "stream",
     "text": [
      "E\n",
      "C\n",
      "E\n",
      " \n",
      "3\n"
     ]
    }
   ],
   "source": [
    "for character in 'ECE 3':\n",
    "    print(character)"
   ]
  },
  {
   "cell_type": "markdown",
   "metadata": {},
   "source": [
    "A very common case for a for-loop is to iterate some integer variable in increasing or decreasing order. Such a sequence of integer can be created using **the function range** as follows"
   ]
  },
  {
   "cell_type": "code",
   "execution_count": 32,
   "metadata": {},
   "outputs": [
    {
     "name": "stdout",
     "output_type": "stream",
     "text": [
      "0\n",
      "1\n",
      "2\n",
      "3\n"
     ]
    }
   ],
   "source": [
    "for i in range(4):\n",
    "    print(i)"
   ]
  },
  {
   "cell_type": "markdown",
   "metadata": {},
   "source": [
    "Or, as follows:"
   ]
  },
  {
   "cell_type": "code",
   "execution_count": 33,
   "metadata": {},
   "outputs": [
    {
     "name": "stdout",
     "output_type": "stream",
     "text": [
      "3\n",
      "4\n",
      "5\n"
     ]
    }
   ],
   "source": [
    "for i in range(3, 6):\n",
    "    print(i)"
   ]
  },
  {
   "cell_type": "markdown",
   "metadata": {},
   "source": [
    "Try also this one:"
   ]
  },
  {
   "cell_type": "code",
   "execution_count": 34,
   "metadata": {},
   "outputs": [
    {
     "name": "stdout",
     "output_type": "stream",
     "text": [
      "4\n",
      "6\n",
      "8\n"
     ]
    }
   ],
   "source": [
    "for i in range(4, 10, 2):\n",
    "    print(i)"
   ]
  },
  {
   "cell_type": "markdown",
   "metadata": {},
   "source": [
    "Type `help(range)` to get more information on the built-in `range` function."
   ]
  },
  {
   "cell_type": "code",
   "execution_count": 35,
   "metadata": {},
   "outputs": [
    {
     "name": "stdout",
     "output_type": "stream",
     "text": [
      "Help on class range in module builtins:\n",
      "\n",
      "class range(object)\n",
      " |  range(stop) -> range object\n",
      " |  range(start, stop[, step]) -> range object\n",
      " |  \n",
      " |  Return an object that produces a sequence of integers from start (inclusive)\n",
      " |  to stop (exclusive) by step.  range(i, j) produces i, i+1, i+2, ..., j-1.\n",
      " |  start defaults to 0, and stop is omitted!  range(4) produces 0, 1, 2, 3.\n",
      " |  These are exactly the valid indices for a list of 4 elements.\n",
      " |  When step is given, it specifies the increment (or decrement).\n",
      " |  \n",
      " |  Methods defined here:\n",
      " |  \n",
      " |  __bool__(self, /)\n",
      " |      self != 0\n",
      " |  \n",
      " |  __contains__(self, key, /)\n",
      " |      Return key in self.\n",
      " |  \n",
      " |  __eq__(self, value, /)\n",
      " |      Return self==value.\n",
      " |  \n",
      " |  __ge__(self, value, /)\n",
      " |      Return self>=value.\n",
      " |  \n",
      " |  __getattribute__(self, name, /)\n",
      " |      Return getattr(self, name).\n",
      " |  \n",
      " |  __getitem__(self, key, /)\n",
      " |      Return self[key].\n",
      " |  \n",
      " |  __gt__(self, value, /)\n",
      " |      Return self>value.\n",
      " |  \n",
      " |  __hash__(self, /)\n",
      " |      Return hash(self).\n",
      " |  \n",
      " |  __iter__(self, /)\n",
      " |      Implement iter(self).\n",
      " |  \n",
      " |  __le__(self, value, /)\n",
      " |      Return self<=value.\n",
      " |  \n",
      " |  __len__(self, /)\n",
      " |      Return len(self).\n",
      " |  \n",
      " |  __lt__(self, value, /)\n",
      " |      Return self<value.\n",
      " |  \n",
      " |  __ne__(self, value, /)\n",
      " |      Return self!=value.\n",
      " |  \n",
      " |  __reduce__(...)\n",
      " |      Helper for pickle.\n",
      " |  \n",
      " |  __repr__(self, /)\n",
      " |      Return repr(self).\n",
      " |  \n",
      " |  __reversed__(...)\n",
      " |      Return a reverse iterator.\n",
      " |  \n",
      " |  count(...)\n",
      " |      rangeobject.count(value) -> integer -- return number of occurrences of value\n",
      " |  \n",
      " |  index(...)\n",
      " |      rangeobject.index(value) -> integer -- return index of value.\n",
      " |      Raise ValueError if the value is not present.\n",
      " |  \n",
      " |  ----------------------------------------------------------------------\n",
      " |  Static methods defined here:\n",
      " |  \n",
      " |  __new__(*args, **kwargs) from builtins.type\n",
      " |      Create and return a new object.  See help(type) for accurate signature.\n",
      " |  \n",
      " |  ----------------------------------------------------------------------\n",
      " |  Data descriptors defined here:\n",
      " |  \n",
      " |  start\n",
      " |  \n",
      " |  step\n",
      " |  \n",
      " |  stop\n",
      "\n"
     ]
    }
   ],
   "source": [
    "help(range)"
   ]
  },
  {
   "cell_type": "markdown",
   "metadata": {},
   "source": [
    "<font color='red'>**Exercise 3.1**</font> Create a function that prints the values of $cos(2\\pi n/3 - \\pi/3)$ for $n=11,12,\\ldots,21$. (Hint: Recall to import!)"
   ]
  },
  {
   "cell_type": "code",
   "execution_count": 39,
   "metadata": {},
   "outputs": [
    {
     "name": "stdout",
     "output_type": "stream",
     "text": [
      "-1.0\n",
      "0.5\n",
      "0.5\n",
      "-1.0\n",
      "0.5\n",
      "0.5\n",
      "-1.0\n",
      "0.5\n",
      "0.5\n",
      "-1.0\n",
      "0.5\n"
     ]
    }
   ],
   "source": [
    "import numpy as np\n",
    "for i in range(11, 22):\n",
    "    A = np.cos(2 * np.pi * i / 3 - math.pi/3)\n",
    "    print(round(A,3))"
   ]
  },
  {
   "cell_type": "markdown",
   "metadata": {},
   "source": [
    "# 4. Arrays"
   ]
  },
  {
   "cell_type": "markdown",
   "metadata": {},
   "source": [
    "In Exercise 3.1 we asked the processor to compute several cosine values and print them. What if we wanted to store this information for future use?\n",
    "\n",
    "**Numpy arrays** (provided by the package called [NumPy](http://www.numpy.org/) that we saw in Lab 01) are here for you! :)\n",
    "\n",
    "An array is a collection of values of the same type. \n",
    "\n",
    "There can be arrays of multiple dimensions. For now, we will focus on one-dimensional arrays (you might also call these vectors)."
   ]
  },
  {
   "cell_type": "markdown",
   "metadata": {},
   "source": [
    "### 4.1 Creating different arrays\n",
    "\n",
    "The example below creates a simple array of four values, all explicitly given by us. "
   ]
  },
  {
   "cell_type": "code",
   "execution_count": 46,
   "metadata": {},
   "outputs": [],
   "source": [
    "a = np.array([0, 1, 2, 3])"
   ]
  },
  {
   "cell_type": "markdown",
   "metadata": {},
   "source": [
    "You can print the values of the array by doing this"
   ]
  },
  {
   "cell_type": "code",
   "execution_count": 47,
   "metadata": {},
   "outputs": [
    {
     "name": "stdout",
     "output_type": "stream",
     "text": [
      "[0 1 2 3]\n"
     ]
    }
   ],
   "source": [
    "print(a)"
   ]
  },
  {
   "cell_type": "markdown",
   "metadata": {},
   "source": [
    "You can also get information about its length by calling the Python built-in function `len`"
   ]
  },
  {
   "cell_type": "code",
   "execution_count": 48,
   "metadata": {},
   "outputs": [
    {
     "data": {
      "text/plain": [
       "4"
      ]
     },
     "execution_count": 48,
     "metadata": {},
     "output_type": "execute_result"
    }
   ],
   "source": [
    "len(a)"
   ]
  },
  {
   "cell_type": "markdown",
   "metadata": {},
   "source": [
    "In the following exercises, you will learn how to create certain types of arrays that are so commonly used that Numpy offers dedicated functions for them."
   ]
  },
  {
   "cell_type": "markdown",
   "metadata": {},
   "source": [
    "<font color='red'>**Exercise 4.1.1**</font> Create an array of 20 ones."
   ]
  },
  {
   "cell_type": "code",
   "execution_count": 49,
   "metadata": {},
   "outputs": [
    {
     "name": "stdout",
     "output_type": "stream",
     "text": [
      "[1, 1, 1, 1, 1, 1, 1, 1, 1, 1, 1, 1, 1, 1, 1, 1, 1, 1, 1, 1]\n"
     ]
    }
   ],
   "source": [
    "A = []\n",
    "for i in range(20):\n",
    "    A.append(1)\n",
    "print(A)"
   ]
  },
  {
   "cell_type": "markdown",
   "metadata": {},
   "source": [
    "<font color='red'>**Exercise 4.1.1**</font> Create an array of 100 zeros."
   ]
  },
  {
   "cell_type": "code",
   "execution_count": 50,
   "metadata": {},
   "outputs": [
    {
     "name": "stdout",
     "output_type": "stream",
     "text": [
      "[0, 0, 0, 0, 0, 0, 0, 0, 0, 0, 0, 0, 0, 0, 0, 0, 0, 0, 0, 0, 0, 0, 0, 0, 0, 0, 0, 0, 0, 0, 0, 0, 0, 0, 0, 0, 0, 0, 0, 0, 0, 0, 0, 0, 0, 0, 0, 0, 0, 0, 0, 0, 0, 0, 0, 0, 0, 0, 0, 0, 0, 0, 0, 0, 0, 0, 0, 0, 0, 0, 0, 0, 0, 0, 0, 0, 0, 0, 0, 0, 0, 0, 0, 0, 0, 0, 0, 0, 0, 0, 0, 0, 0, 0, 0, 0, 0, 0, 0, 0]\n"
     ]
    }
   ],
   "source": [
    "A = []\n",
    "for i in range(100):\n",
    "    A.append(0)\n",
    "print(A)"
   ]
  },
  {
   "cell_type": "markdown",
   "metadata": {},
   "source": [
    "<font color='red'>**Exercise 4.1.1**</font> Create an array of 50 [random numbers](https://docs.scipy.org/doc/numpy-1.15.1/reference/generated/numpy.random.rand.html)."
   ]
  },
  {
   "cell_type": "code",
   "execution_count": 51,
   "metadata": {},
   "outputs": [
    {
     "name": "stdout",
     "output_type": "stream",
     "text": [
      "[77, 10, 21, 57, 68, 17, 20, 60, 42, 95, 4, 53, 63, 20, 15, 79, 80, 38, 39, 30, 21, 65, 73, 5, 17, 65, 39, 91, 18, 81, 101, 54, 78, 94, 35, 46, 73, 44, 67, 70, 63, 20, 37, 75, 7, 89, 71, 61, 80, 15]\n"
     ]
    }
   ],
   "source": [
    "import random\n",
    "A = []\n",
    "for i in range(50):\n",
    "    A.append(random.randint(1,101))\n",
    "print(A)"
   ]
  },
  {
   "attachments": {
    "image.png": {
     "image/png": "[encoded data removed]"
    }
   },
   "cell_type": "markdown",
   "metadata": {},
   "source": [
    "### 4.1.1 `np.linspace`\n",
    "Very often, we want to work with many numbers that are evenly spaced within some range.  NumPy provides a special function for this called `linspace`\n",
    "\n",
    "![image.png](attachment:image.png)\n",
    "\n",
    "Here is a quick example:"
   ]
  },
  {
   "cell_type": "code",
   "execution_count": 52,
   "metadata": {},
   "outputs": [
    {
     "data": {
      "text/plain": [
       "array([0. , 0.1, 0.2, 0.3, 0.4, 0.5, 0.6, 0.7, 0.8, 0.9, 1. ])"
      ]
     },
     "execution_count": 52,
     "metadata": {},
     "output_type": "execute_result"
    }
   ],
   "source": [
    "np.linspace(start = 0, stop = 1, num = 11)"
   ]
  },
  {
   "cell_type": "markdown",
   "metadata": {},
   "source": [
    "Another related function that is useful to know is the `arange` function"
   ]
  },
  {
   "cell_type": "code",
   "execution_count": 53,
   "metadata": {},
   "outputs": [
    {
     "data": {
      "text/plain": [
       "array([0. , 0.1, 0.2, 0.3, 0.4, 0.5, 0.6, 0.7, 0.8, 0.9, 1. ])"
      ]
     },
     "execution_count": 53,
     "metadata": {},
     "output_type": "execute_result"
    }
   ],
   "source": [
    "np.arange(start=0, stop=1.1, step=0.1)"
   ]
  },
  {
   "cell_type": "markdown",
   "metadata": {},
   "source": [
    "<font color='red'>**Exercise 4.1.1.1**</font> Use `np.arange` to create an array with the multiples of 99 from 0 up to (**and including**) 9999.  (So its elements are 0, 99, 198, 297, etc.)"
   ]
  },
  {
   "cell_type": "code",
   "execution_count": 54,
   "metadata": {},
   "outputs": [
    {
     "data": {
      "text/plain": [
       "array([   0,   99,  198,  297,  396,  495,  594,  693,  792,  891,  990,\n",
       "       1089, 1188, 1287, 1386, 1485, 1584, 1683, 1782, 1881, 1980, 2079,\n",
       "       2178, 2277, 2376, 2475, 2574, 2673, 2772, 2871, 2970, 3069, 3168,\n",
       "       3267, 3366, 3465, 3564, 3663, 3762, 3861, 3960, 4059, 4158, 4257,\n",
       "       4356, 4455, 4554, 4653, 4752, 4851, 4950, 5049, 5148, 5247, 5346,\n",
       "       5445, 5544, 5643, 5742, 5841, 5940, 6039, 6138, 6237, 6336, 6435,\n",
       "       6534, 6633, 6732, 6831, 6930, 7029, 7128, 7227, 7326, 7425, 7524,\n",
       "       7623, 7722, 7821, 7920, 8019, 8118, 8217, 8316, 8415, 8514, 8613,\n",
       "       8712, 8811, 8910, 9009, 9108, 9207, 9306, 9405, 9504, 9603, 9702,\n",
       "       9801])"
      ]
     },
     "execution_count": 54,
     "metadata": {},
     "output_type": "execute_result"
    }
   ],
   "source": [
    "np.arange(start=0, stop=9900, step=99)"
   ]
  },
  {
   "cell_type": "markdown",
   "metadata": {},
   "source": [
    "## 4.2 Working with single elements of arrays (\"indexing\")\n",
    "\n",
    "Run each one of the following commands to learn how to access elements of an array. See [here](https://docs.scipy.org/doc/numpy-1.13.0/reference/arrays.indexing.html) for more information!"
   ]
  },
  {
   "cell_type": "code",
   "execution_count": 55,
   "metadata": {},
   "outputs": [
    {
     "name": "stdout",
     "output_type": "stream",
     "text": [
      "[0. 1. 2. 3. 4. 5. 6. 7. 8. 9.]\n",
      "0.0\n",
      "1.0\n",
      "[1. 2. 3. 4. 5. 6. 7. 8. 9.]\n",
      "[0.]\n",
      "[0. 2. 4. 6.]\n"
     ]
    }
   ],
   "source": [
    "x = np.linspace(0,9,10)\n",
    "print(x)\n",
    "\n",
    "print(x[0])\n",
    "\n",
    "print(x[1])\n",
    "\n",
    "print(x[1:])\n",
    "\n",
    "print(x[:1])\n",
    "\n",
    "print(x[0:7:2]) # i:j:k where i is the starting index, j is the stopping index, and k is the step "
   ]
  },
  {
   "cell_type": "markdown",
   "metadata": {},
   "source": [
    "<font color='red'>**Exercise 4.2**</font> Convince yourself that the following piece of code implements Exercise 3.1 using the array structure."
   ]
  },
  {
   "cell_type": "code",
   "execution_count": 56,
   "metadata": {},
   "outputs": [
    {
     "name": "stdout",
     "output_type": "stream",
     "text": [
      "-1.0\n",
      "0.5\n",
      "0.5\n",
      "-1.0\n",
      "0.5\n",
      "0.5\n",
      "-1.0\n",
      "0.5\n",
      "0.5\n",
      "-1.0\n",
      "0.5\n"
     ]
    }
   ],
   "source": [
    "ns = np.linspace(11,21,11)\n",
    "for i in range(11):\n",
    "    # print(i)\n",
    "    # print(ns[i])\n",
    "    print(round(np.cos(2*np.pi*ns[i]/3 - np.pi/3),3) )"
   ]
  },
  {
   "cell_type": "markdown",
   "metadata": {},
   "source": [
    "## 4.3 Calling functions on arrays"
   ]
  },
  {
   "cell_type": "markdown",
   "metadata": {},
   "source": [
    "Arrays provide a very efficient way to call functions on multiple different arguments without using for loops. Here is an alternative more efficient way to implement the code in Exercise 4.2."
   ]
  },
  {
   "cell_type": "code",
   "execution_count": 57,
   "metadata": {},
   "outputs": [
    {
     "name": "stdout",
     "output_type": "stream",
     "text": [
      "[-1.   0.5  0.5 -1.   0.5  0.5 -1.   0.5  0.5 -1.   0.5]\n"
     ]
    }
   ],
   "source": [
    "ns = np.linspace(11,21,11)\n",
    "print( np.cos(2*np.pi*ns/3 - np.pi/3) )"
   ]
  },
  {
   "cell_type": "markdown",
   "metadata": {
    "slideshow": {
     "slide_type": "slide"
    }
   },
   "source": [
    "<font color='red'>**Exercise 4.3**</font> Run the following piece of code to plot the cosine values that you computed above."
   ]
  },
  {
   "cell_type": "code",
   "execution_count": 58,
   "metadata": {},
   "outputs": [
    {
     "data": {
      "text/plain": [
       "[<matplotlib.lines.Line2D at 0x1027f070>]"
      ]
     },
     "execution_count": 58,
     "metadata": {},
     "output_type": "execute_result"
    },
    {
     "data": {
      "image/png": "[encoded data removed]",
      "text/plain": [
       "<Figure size 432x288 with 1 Axes>"
      ]
     },
     "metadata": {
      "needs_background": "light"
     },
     "output_type": "display_data"
    }
   ],
   "source": [
    "# allows matplotlib charts to be displayed inside the notebook\n",
    "%matplotlib inline  \n",
    "import matplotlib.pyplot as plt\n",
    "\n",
    "\n",
    "ns = np.linspace(11,21,11)\n",
    "ys = np.cos(2*np.pi*ns/3 - np.pi/3)\n",
    "\n",
    "\n",
    "fig, ax = plt.subplots()\n",
    "ax.plot(ns,ys)\n",
    "#ax.set_xlim(11,21)"
   ]
  },
  {
   "cell_type": "markdown",
   "metadata": {},
   "source": [
    "# 5. Application: Fourier series of rectangular pulse"
   ]
  },
  {
   "cell_type": "markdown",
   "metadata": {},
   "source": [
    "Consider the following periodic signal with period $1$sec:\n",
    "$$\n",
    "x(t) = \\begin{cases} 1, & t\\in[0,1/4] \\quad\\text{or}\\quad t\\in[3/4,1] \\\\\n",
    "0, & t\\in[1/4,3/4]\n",
    "\\end{cases}\n",
    "$$\n",
    "and\n",
    "$$\n",
    "x(t+1)=x(t). \\qquad \\forall t\n",
    "$$"
   ]
  },
  {
   "cell_type": "markdown",
   "metadata": {},
   "source": [
    "<font color='red'>**Exercise 5.1**</font> Write code that plots two periods of the rectangular pulse. Consider the following fine discretization of the time variable $t$:"
   ]
  },
  {
   "cell_type": "code",
   "execution_count": 59,
   "metadata": {},
   "outputs": [],
   "source": [
    "framerate = 44100\n",
    "t = np.linspace(0,2,framerate)"
   ]
  },
  {
   "cell_type": "code",
   "execution_count": 60,
   "metadata": {},
   "outputs": [],
   "source": [
    "xt = []\n",
    "for i in range(framerate):\n",
    "    if((t[i] - math.floor(2*i/framerate)) < (1/4) or (t[i] - math.floor(2*i/framerate)) > (3/4)):\n",
    "        xt.append(1)\n",
    "    else:\n",
    "        xt.append(0)"
   ]
  },
  {
   "cell_type": "code",
   "execution_count": 61,
   "metadata": {},
   "outputs": [
    {
     "data": {
      "text/plain": [
       "(0, 2)"
      ]
     },
     "execution_count": 61,
     "metadata": {},
     "output_type": "execute_result"
    },
    {
     "data": {
      "image/png": "[encoded data removed]",
      "text/plain": [
       "<Figure size 432x288 with 1 Axes>"
      ]
     },
     "metadata": {
      "needs_background": "light"
     },
     "output_type": "display_data"
    }
   ],
   "source": [
    "# Plot the signal. You can use the commands provided to you in Exercise 4.3\n",
    "fig, ax = plt.subplots()\n",
    "ax.plot(t,xt)\n",
    "ax.set_xlim(0,2)"
   ]
  },
  {
   "cell_type": "markdown",
   "metadata": {},
   "source": [
    "<font color='red'>**Exercise 5.2**</font> In the same figure, plot the square wave and the contribution of the first 11 terms of the corresponding Fourier series, namely the signal $$s(t)={A_0}/{2}+\\sum_{k=1}^{11}A_k\\cos(2\\pi k t ) + B_k\\sin(2\\pi k t )$$ where $\\{A_k\\},\\{B_k\\}$ are the Fourier series coefficients that you computed earlier in the lab. "
   ]
  },
  {
   "cell_type": "code",
   "execution_count": 62,
   "metadata": {},
   "outputs": [
    {
     "data": {
      "text/plain": [
       "[<matplotlib.lines.Line2D at 0x10588210>]"
      ]
     },
     "execution_count": 62,
     "metadata": {},
     "output_type": "execute_result"
    },
    {
     "data": {
      "image/png": "[encoded data removed]",
      "text/plain": [
       "<Figure size 432x288 with 1 Axes>"
      ]
     },
     "metadata": {
      "needs_background": "light"
     },
     "output_type": "display_data"
    }
   ],
   "source": [
    "def A(k):\n",
    "    return 2 * np.sin(np.pi*k/2)/(np.pi*k)\n",
    "y = 0.5\n",
    "for i in range(11):\n",
    "    i += 1\n",
    "    y = y + A(i)*np.cos(2*np.pi*i*t)\n",
    "\n",
    "fig, ax1 = plt.subplots()\n",
    "ax1.plot(t, y)\n",
    "ax1.plot(t, xt)"
   ]
  },
  {
   "cell_type": "markdown",
   "metadata": {},
   "source": [
    "<font color='red'>**Extra Exercise 5.4**</font> Play with the number (say) $N$ of coefficients that you inlude in your summation. Can you write a function that takes this number $N$ as argument and creates the corresponding $s(t)$?"
   ]
  },
  {
   "cell_type": "code",
   "execution_count": 63,
   "metadata": {},
   "outputs": [
    {
     "data": {
      "text/plain": [
       "[<matplotlib.lines.Line2D at 0x108c3b50>]"
      ]
     },
     "execution_count": 63,
     "metadata": {},
     "output_type": "execute_result"
    },
    {
     "data": {
      "image/png": "[encoded data removed]",
      "text/plain": [
       "<Figure size 432x288 with 1 Axes>"
      ]
     },
     "metadata": {
      "needs_background": "light"
     },
     "output_type": "display_data"
    }
   ],
   "source": [
    "def A(k):\n",
    "    return 2 * np.sin(np.pi*k/2)/(np.pi*k)\n",
    "def ST(N):\n",
    "    Y = 0.5\n",
    "    for i in range(N):\n",
    "        i += 1\n",
    "        Y = Y + A(i)*np.cos(2*np.pi*i*t)\n",
    "    return Y\n",
    "\n",
    "fig, ax2 = plt.subplots()\n",
    "ax2.plot(t, ST(1000))\n",
    "ax2.plot(t, xt)"
   ]
  }
 ],
 "metadata": {
  "kernelspec": {
   "display_name": "Python 3",
   "language": "python",
   "name": "python3"
  },
  "language_info": {
   "codemirror_mode": {
    "name": "ipython",
    "version": 3
   },
   "file_extension": ".py",
   "mimetype": "text/x-python",
   "name": "python",
   "nbconvert_exporter": "python",
   "pygments_lexer": "ipython3",
   "version": "3.7.4"
  }
 },
 "nbformat": 4,
 "nbformat_minor": 2
}
